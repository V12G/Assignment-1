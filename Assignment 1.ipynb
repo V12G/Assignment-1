{
 "cells": [
  {
   "cell_type": "code",
   "execution_count": 7,
   "id": "01a20e25",
   "metadata": {},
   "outputs": [
    {
     "name": "stdout",
     "output_type": "stream",
     "text": [
      "Enter the radius of circle4\n",
      "50.26548245743669\n"
     ]
    }
   ],
   "source": [
    "#python script to calculate area of circle ,radius taken from user\n",
    "r=input(\"Enter the radius of circle\")\n",
    "x=int(r)\n",
    "from math import*\n",
    "pi\n",
    "y=float(pi)\n",
    "a=y*x*x\n",
    "print(a)"
   ]
  },
  {
   "cell_type": "code",
   "execution_count": 12,
   "id": "d9ce61db",
   "metadata": {},
   "outputs": [
    {
     "name": "stdout",
     "output_type": "stream",
     "text": [
      "Enter the length of cuboid2.4\n",
      "Enter the height of cuboid4.3\n",
      "Enter the bredth of cuboid2.1\n",
      "area of cuboid is 21.671999999999997\n"
     ]
    }
   ],
   "source": [
    "#python script to calculate volume of cuboid,dimensions(float values) taken from user\n",
    "l=input(\"Enter the length of cuboid\")\n",
    "h=input(\"Enter the height of cuboid\")\n",
    "b=input(\"Enter the bredth of cuboid\")\n",
    "a=float(l)*float(h)*float(b)#formula of volume of cuboid l*b*h\n",
    "print(\"area of cuboid is\",a)"
   ]
  },
  {
   "cell_type": "code",
   "execution_count": 21,
   "id": "e127915c",
   "metadata": {},
   "outputs": [
    {
     "name": "stdout",
     "output_type": "stream",
     "text": [
      "Enter the number2\n",
      "Square is 4\n"
     ]
    }
   ],
   "source": [
    "#calculate square of the given number(number is taken from user)\n",
    "x=input(\"Enter the number\")\n",
    "s=int(x)\n",
    "print(\"Square is\",s**2)"
   ]
  },
  {
   "cell_type": "code",
   "execution_count": 23,
   "id": "bf369407",
   "metadata": {},
   "outputs": [
    {
     "name": "stdout",
     "output_type": "stream",
     "text": [
      "Enter the base value4\n",
      "Enter the heaight value8\n",
      "area of tringle is 16.0\n"
     ]
    }
   ],
   "source": [
    "#caluculate area of tringle\n",
    "b=input(\"Enter the base value\")\n",
    "h=input(\"Enter the heaight value\")\n",
    "a=int(b)*int(h)/2 #this is formul of area of tringle\n",
    "print(\"area of tringle is\",a)\n"
   ]
  },
  {
   "cell_type": "code",
   "execution_count": 24,
   "id": "e2a7e881",
   "metadata": {},
   "outputs": [
    {
     "name": "stdout",
     "output_type": "stream",
     "text": [
      "Enter the principal amount1000\n",
      "Enter the rate of interest12.5\n",
      "time2\n",
      "simple interest is 250.0\n"
     ]
    }
   ],
   "source": [
    "#caluculate simple interest\n",
    "p=input(\"Enter the principal amount\")\n",
    "r=input(\"Enter the rate of interest\")\n",
    "t=input(\"time\")\n",
    "si=int(p)*float(r)*int(t)/100 #this is the formula of simple interest\n",
    "print(\"simple interest is\",si)"
   ]
  },
  {
   "cell_type": "code",
   "execution_count": null,
   "id": "8fcfc87d",
   "metadata": {},
   "outputs": [],
   "source": []
  }
 ],
 "metadata": {
  "kernelspec": {
   "display_name": "Python 3 (ipykernel)",
   "language": "python",
   "name": "python3"
  },
  "language_info": {
   "codemirror_mode": {
    "name": "ipython",
    "version": 3
   },
   "file_extension": ".py",
   "mimetype": "text/x-python",
   "name": "python",
   "nbconvert_exporter": "python",
   "pygments_lexer": "ipython3",
   "version": "3.9.7"
  }
 },
 "nbformat": 4,
 "nbformat_minor": 5
}
